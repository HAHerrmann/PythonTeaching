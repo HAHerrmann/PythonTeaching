{
 "cells": [
  {
   "cell_type": "markdown",
   "metadata": {},
   "source": [
    "## Building a simple metabolic model \n",
    "\n",
    "Here we are building a simple metabolic model of photosynthesis. \n",
    "It will contain the following photosynthesis reaction:\n",
    "\n",
    "- 6.0 CO2_h + 6.0 H2O_h --> 6.0 O2_h + Suc_h\n",
    "\n",
    "We also need input & output reactions to make the model works. \n",
    "\n",
    "- --> CO2_h\n",
    "- --> H2O_h\n",
    "- O2_h --> \n",
    "- Suc_h --> "
   ]
  },
  {
   "cell_type": "code",
   "execution_count": 1,
   "metadata": {},
   "outputs": [],
   "source": [
    "# Loading the required cobra library \n",
    "\n",
    "import cobra\n",
    "from cobra import Model, Reaction, Metabolite"
   ]
  },
  {
   "cell_type": "markdown",
   "metadata": {},
   "source": [
    "To build the model we need to\n",
    "- create the model\n",
    "- create the metabolites \n",
    "- create the reactions \n",
    "- add the metabolites to the reactions\n",
    "- add the reactions to the model \n",
    "\n",
    "The cobrapy documentation is really helpful:\n",
    "\n",
    "[You can find it here ](https://cobrapy.readthedocs.io/en/latest/building_model.html)"
   ]
  },
  {
   "cell_type": "code",
   "execution_count": 2,
   "metadata": {},
   "outputs": [],
   "source": [
    "# Creating the model\n",
    "\n",
    "model = Model('simple_model')"
   ]
  },
  {
   "cell_type": "code",
   "execution_count": 3,
   "metadata": {},
   "outputs": [],
   "source": [
    "# Creating the metabolites \n",
    "\n",
    "CO2_h = Metabolite(\n",
    "    'CO2_h',\n",
    "    formula='CO2',\n",
    "    name='Carbon Dioxide',\n",
    "    compartment='h') \n",
    "\n",
    "H2O_h = Metabolite(\n",
    "    'H2O_h',\n",
    "    formula='H2O',\n",
    "    name='Water',\n",
    "    compartment='h')\n",
    "\n",
    "Suc_h = Metabolite(\n",
    "    'Suc_h',\n",
    "    formula='C6H12O6',\n",
    "    name='Sugar',\n",
    "    compartment='h')\n",
    "\n",
    "O2_h = Metabolite(\n",
    "    'O2_h',\n",
    "    formula='O2',\n",
    "    name='Oxygen',\n",
    "    compartment='h')\n"
   ]
  },
  {
   "cell_type": "code",
   "execution_count": 4,
   "metadata": {},
   "outputs": [],
   "source": [
    "# Creating the reactions & adding the metabolites to the reactions\n",
    "\n",
    "r1 = Reaction('CO2_In')\n",
    "r1.subsystem = 'Input/Output Reactions'\n",
    "r1.lower_bound = 0.  # This is the default\n",
    "r1.upper_bound = 1000.  # This is the default\n",
    "r1.add_metabolites({CO2_h: +1.0})\n",
    "\n",
    "r2 = Reaction('H2O_In')\n",
    "r2.subsystem = 'Input/Output Reactions'\n",
    "r2.add_metabolites({H2O_h: +1.0})\n",
    "\n",
    "r3 = Reaction('O2_Out')\n",
    "r3.subsystem = 'Input/Output Reactions'\n",
    "r3.add_metabolites({O2_h: -1.0}) \n",
    "\n",
    "r4 = Reaction('Suc_Out')\n",
    "r4.subsystem = 'Input/Output Reactions'\n",
    "r4.add_metabolites({Suc_h: -1.0})\n",
    "\n",
    "r5 = Reaction('Photo')\n",
    "r5.subsystem = 'Photosynthesis Reaction'\n",
    "r5.add_metabolites({\n",
    "    CO2_h: -6.0, \n",
    "    H2O_h: -6.0,\n",
    "    Suc_h: +1.0, \n",
    "    O2_h: +6.0}) "
   ]
  },
  {
   "cell_type": "code",
   "execution_count": 5,
   "metadata": {},
   "outputs": [],
   "source": [
    "# Add reactions to the model \n",
    "\n",
    "model.add_reactions([r1,r2,r3,r4,r5])"
   ]
  },
  {
   "cell_type": "markdown",
   "metadata": {},
   "source": [
    "Now that we have created the model we can save it to a file. That way we only need to import the file to have access to our model. \n",
    "\n",
    "Here we are saving the model as a .mat (MATLAB) file. This can be imported into python and MATLAB. "
   ]
  },
  {
   "cell_type": "code",
   "execution_count": 6,
   "metadata": {},
   "outputs": [],
   "source": [
    "# Save model to file\n",
    "cobra.io.save_matlab_model(model, \"simple_model.mat\")"
   ]
  }
 ],
 "metadata": {
  "kernelspec": {
   "display_name": "Python 3",
   "language": "python",
   "name": "python3"
  },
  "language_info": {
   "codemirror_mode": {
    "name": "ipython",
    "version": 2
   },
   "file_extension": ".py",
   "mimetype": "text/x-python",
   "name": "python",
   "nbconvert_exporter": "python",
   "pygments_lexer": "ipython2",
   "version": "2.7.17"
  }
 },
 "nbformat": 4,
 "nbformat_minor": 2
}
