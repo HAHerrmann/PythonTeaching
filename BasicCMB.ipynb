{
 "cells": [
  {
   "cell_type": "code",
   "execution_count": 1,
   "metadata": {},
   "outputs": [],
   "source": [
    "# Loading the required package \n",
    "import cobra "
   ]
  },
  {
   "cell_type": "code",
   "execution_count": 2,
   "metadata": {},
   "outputs": [],
   "source": [
    "# Loading Model\n",
    "model = cobra.io.load_matlab_model(\"simple_model.mat\")"
   ]
  },
  {
   "cell_type": "code",
   "execution_count": 3,
   "metadata": {},
   "outputs": [
    {
     "name": "stdout",
     "output_type": "stream",
     "text": [
      "The model has 5 reactions\n",
      "The model has 4 metabolites\n"
     ]
    }
   ],
   "source": [
    "# Analysing the model features\n",
    "print(\"The model has {} reactions\".format(len(model.reactions)))\n",
    "print(\"The model has {} metabolites\".format(len(model.metabolites)))"
   ]
  },
  {
   "cell_type": "markdown",
   "metadata": {},
   "source": [
    "In a paper you would report the degree of the model you are working with, to give an idea of how complex the model is. \n",
    "\n",
    "The degree of a model is equal to the total # of reactions - the # of input & output reactions. \n",
    "\n",
    "The model we are working with has a degree of 1 (our photosynthesis reaction). This is the simplest model possible. "
   ]
  },
  {
   "cell_type": "code",
   "execution_count": 4,
   "metadata": {},
   "outputs": [
    {
     "name": "stdout",
     "output_type": "stream",
     "text": [
      "CO2_In:  --> CO2_h\n",
      " \n",
      "H2O_In:  --> H2O_h\n",
      " \n",
      "O2_Out: O2_h --> \n",
      " \n",
      "Suc_Out: Suc_h --> \n",
      " \n",
      "Photo: 6.0 CO2_h + 6.0 H2O_h --> 6.0 O2_h + Suc_h\n",
      " \n"
     ]
    }
   ],
   "source": [
    "# We can print all of the model reactions using a for loop\n",
    "for r in model.reactions:\n",
    "    print(r)\n",
    "#     # We can check if the reactions are mass balanced\n",
    "#     print(r.check_mass_balance())\n",
    "#     # We can check the upper and lower bounds \n",
    "#     print(r.bounds)\n",
    "    print(\" \")"
   ]
  },
  {
   "cell_type": "code",
   "execution_count": 5,
   "metadata": {},
   "outputs": [
    {
     "name": "stdout",
     "output_type": "stream",
     "text": [
      "Maximize\n",
      "-1.0*Suc_Out_reverse_77f6c + 1.0*Suc_Out\n"
     ]
    }
   ],
   "source": [
    "# Setting an objective function \n",
    "model.objective = model.reactions.get_by_id(\"Suc_Out\")\n",
    "print(model.objective)"
   ]
  },
  {
   "cell_type": "markdown",
   "metadata": {},
   "source": [
    "Setting `Suc_Out` as the objective function is an optimization constraint. \n",
    "\n",
    "We can now calculate model solutions that fulfil this constraints (i.e. produce the maximum possible sugar export)."
   ]
  },
  {
   "cell_type": "code",
   "execution_count": 6,
   "metadata": {},
   "outputs": [
    {
     "name": "stdout",
     "output_type": "stream",
     "text": [
      "<Solution 166.667 at 0x7f777a251c90>\n",
      "IN FLUXES     OUT FLUXES      OBJECTIVES\n",
      "------------  --------------  ------------\n",
      "CO2_h  1e+03  O2_h     1e+03  Suc_Out  167\n",
      "H2O_h  1e+03  Suc_h  167\n"
     ]
    }
   ],
   "source": [
    "# Running a Flux Balance Analysis\n",
    "solution = model.optimize()\n",
    "print(solution)\n",
    "\n",
    "# Print single Flux Solutions \n",
    "model.summary()"
   ]
  },
  {
   "cell_type": "markdown",
   "metadata": {},
   "source": [
    "The maximum possible flux through `Suc_Out` is 167. \n",
    "\n",
    "This is because the maximum CO2 and H2O input is 1000.\n",
    "\n",
    "We need 6 carbons for every sugar, and 1000/6 = 166.666666 (note the rounding). "
   ]
  },
  {
   "cell_type": "code",
   "execution_count": 7,
   "metadata": {},
   "outputs": [],
   "source": [
    "# We can impose constraints onto our model by setting upper and lower bounds\n",
    "r = model.reactions.get_by_id(\"CO2_In\")\n",
    "r.lower_bound = 400.0\n",
    "r.upper_bound = 600.0"
   ]
  },
  {
   "cell_type": "code",
   "execution_count": 8,
   "metadata": {},
   "outputs": [
    {
     "name": "stdout",
     "output_type": "stream",
     "text": [
      "<Solution 100.000 at 0x7f777a203810>\n",
      "IN FLUXES    OUT FLUXES    OBJECTIVES\n",
      "-----------  ------------  ------------\n",
      "CO2_h  600   O2_h   600    Suc_Out  100\n",
      "H2O_h  600   Suc_h  100\n"
     ]
    }
   ],
   "source": [
    "# Re-running a Flux Balance Analysis\n",
    "solution = model.optimize()\n",
    "print(solution)\n",
    "\n",
    "# Print single Flux Solutions \n",
    "model.summary()"
   ]
  },
  {
   "cell_type": "code",
   "execution_count": 9,
   "metadata": {},
   "outputs": [],
   "source": [
    "r = model.reactions.get_by_id(\"CO2_In\")\n",
    "r.lower_bound = 400.0\n",
    "r.upper_bound = 600.0"
   ]
  },
  {
   "cell_type": "markdown",
   "metadata": {},
   "source": [
    "Here we said that the maximum CO2 input is a flux of 600, so the maximum output of sugar is 100."
   ]
  },
  {
   "cell_type": "markdown",
   "metadata": {},
   "source": [
    "It is also possible to calculate the feasible upper and lower bounds, rather than the single flux solutions.\n",
    "\n",
    "This is called a flux variability analysis (FVA).\n",
    "\n",
    "Because our model is small and each reaction is dependent on all reactions in the model, the upper and lower bounds are always the same. \n",
    "\n",
    "But you can imagine that in a bigger model there might be many different ways to get the same solution! That's when FVA becomes useful. "
   ]
  },
  {
   "cell_type": "code",
   "execution_count": 10,
   "metadata": {},
   "outputs": [
    {
     "name": "stdout",
     "output_type": "stream",
     "text": [
      "         maximum  minimum\n",
      "CO2_In     600.0    600.0\n",
      "H2O_In     600.0    600.0\n",
      "O2_Out     600.0    600.0\n",
      "Suc_Out    100.0    100.0\n",
      "Photo      100.0    100.0\n"
     ]
    }
   ],
   "source": [
    "FVAresults = cobra.flux_analysis.flux_variability_analysis(model,model.reactions)\n",
    "print(FVAresults)"
   ]
  }
 ],
 "metadata": {
  "kernelspec": {
   "display_name": "Python 3",
   "language": "python",
   "name": "python3"
  },
  "language_info": {
   "codemirror_mode": {
    "name": "ipython",
    "version": 2
   },
   "file_extension": ".py",
   "mimetype": "text/x-python",
   "name": "python",
   "nbconvert_exporter": "python",
   "pygments_lexer": "ipython2",
   "version": "2.7.17"
  }
 },
 "nbformat": 4,
 "nbformat_minor": 2
}
