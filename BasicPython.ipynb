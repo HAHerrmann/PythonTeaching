{
 "cells": [
  {
   "cell_type": "markdown",
   "metadata": {},
   "source": [
    "## Python Tutorial\n",
    "\n",
    "This is a (very) basic python tutorial covering a (very) simple introduction to programming. \n",
    "If you want to download a basic python console to try some of the coding examples yourself you can do so from [here](https://wiki.python.org/moin/BeginnersGuide/Download). \n",
    "\n",
    "### Terminology \n",
    "\n",
    "- **Comment**: can be written anywhere in the code and needs to be preceded by a hashtag (#). Good code should be commented so that others can easily follow it! \n",
    "\n",
    "\n",
    "- **Variable**: storage container that holds information. We assign variables to give a descriptive name to the information that we are working with. \n",
    "\n",
    "\n",
    "- **String**: a data type used in programming that is used to represent text rather than numbers. Strings must be written in quotation marks. \n",
    "\n",
    "\n",
    "- **Float**: represent real numbers written with a decimal point. By default python considers everything as integers. \n",
    "\n",
    "\n",
    "- **List**: a variable containing multiple other variables. A tool to store multiple pieces of information at once. \n",
    "\n",
    "\n",
    "- **For Statement**: statement used to iterate through each element in a list.  \n",
    "\n",
    "\n",
    "- **If Statement**: selects only those items that fit a specified criteria. It is most commonly used to write code that says: \"If this is true then to that\". \n",
    "\n",
    "\n",
    "- **While Statement**: carry out a specified task for as long as a specified condition holds. Once the condition is no longer true, the statement is no longer applicable. \n",
    "\n",
    "\n",
    "- **Library (aka Package)**: a collection of resources for other programmers to access. Often the code you are looking for has already been written by someone else! \n",
    "\n",
    "\n",
    "### Literature \n",
    "- [Online Tutorial](https://realpython.com/)\n",
    "- [Interactive Online Tutorial](https://www.learnpython.org/) \n",
    "- [The Python Documentation](https://docs.python.org/3/tutorial/) \n",
    "- [Fun Coding Examples](https://skillcrush.com/blog/python-programming-examples/) \n",
    "- [Platform For Online Collaborative Coding](https://cocalc.com/) \n",
    "- [Jupyter Notebook](https://jupyter-notebook-beginner-guide.readthedocs.io/en/latest/install.html) \n",
    "- [How to Write Markdown](https://github.com/adam-p/markdown-here/wiki/Markdown-Cheatsheet) \n"
   ]
  },
  {
   "cell_type": "code",
   "execution_count": 1,
   "metadata": {},
   "outputs": [
    {
     "name": "stdout",
     "output_type": "stream",
     "text": [
      "8\n",
      "8\n",
      "293084248876838804\n",
      "1405880115\n",
      "0\n"
     ]
    }
   ],
   "source": [
    "# EXAMPLE 1: Variable \n",
    "\n",
    "x = 2 # x is a variable\n",
    "y = 4 # y is a variable\n",
    "print x*y\n",
    "\n",
    "# But why not just write? \n",
    "print 2*4\n",
    "\n",
    "# Because your information may be way more complex...\n",
    "# and you may want to do multiple operations with it \n",
    "# Calling a number by its cell value in Excel is assigning a variable! \n",
    "x =  254564684\n",
    "y = 1151315431\n",
    "print x*y\n",
    "print x+y\n",
    "print x/y"
   ]
  },
  {
   "cell_type": "markdown",
   "metadata": {},
   "source": [
    "**Why is the last output zero? Shouldn't this be a decimal?**\n",
    "\n",
    "By default python assumes everything is an integer.\n",
    "To work with decimals we need to declare at least 1 number in the calculation as a float. \n",
    "Floats tell python to use real numbers for the calculation. "
   ]
  },
  {
   "cell_type": "code",
   "execution_count": 2,
   "metadata": {},
   "outputs": [
    {
     "name": "stdout",
     "output_type": "stream",
     "text": [
      "0\n",
      "0.22110768009\n"
     ]
    }
   ],
   "source": [
    "# EXAMPLE 2: Floats\n",
    "\n",
    "print x/y # no floats\n",
    "print float(x)/y # there is a float in the calculation so we are okay. "
   ]
  },
  {
   "cell_type": "code",
   "execution_count": 3,
   "metadata": {},
   "outputs": [
    {
     "name": "stdout",
     "output_type": "stream",
     "text": [
      "Hello Giles\n",
      "Hello, how are you ?\n",
      "Hello Giles, how are you ?\n",
      "HelloHelloHelloHelloHello\n"
     ]
    }
   ],
   "source": [
    "# EXAMPLE 3 : Strings \n",
    "\n",
    "x = \"Hello\"\n",
    "y = \" Giles\"\n",
    "c = \",\"\n",
    "z = \" how are you ?\"\n",
    "print x+y\n",
    "print x+c+z\n",
    "print x+y+c+z\n",
    "print 5*x"
   ]
  },
  {
   "cell_type": "markdown",
   "metadata": {},
   "source": [
    "Variables don't have to be numbers...\n",
    "\n",
    "Letters are stored as **strings** and need to placed in quotation marks.\n",
    "\n",
    "You cannot add strings to numbers. But you can use numbers to multiply strings. "
   ]
  },
  {
   "cell_type": "code",
   "execution_count": 4,
   "metadata": {},
   "outputs": [
    {
     "name": "stdout",
     "output_type": "stream",
     "text": [
      "[2, 1, 7, 3]\n",
      "2\n",
      "3\n",
      "[2, 1, 7, 3, 2, 1, 7, 3]\n",
      "[2, 1, 7, 3, 2, 1, 7, 3]\n"
     ]
    }
   ],
   "source": [
    "# EXAMPLE 4: Lists\n",
    "\n",
    "# Variables can hold more than one piece of information \n",
    "x = [2,1,7,3] # x is a list \n",
    "print x\n",
    "print x[0] #selects the first element in the list \n",
    "print x[-1] #selects the last element in the list\n",
    "print x*2\n",
    "print x+x"
   ]
  },
  {
   "cell_type": "code",
   "execution_count": 5,
   "metadata": {},
   "outputs": [
    {
     "name": "stdout",
     "output_type": "stream",
     "text": [
      "[2, 1, 7, 3]\n",
      "[4, 2, 14, 6]\n",
      "4\n",
      "2\n",
      "14\n",
      "6\n"
     ]
    }
   ],
   "source": [
    "# EXAMPLE 5: For Statements\n",
    "\n",
    "# We can apply the same operation to every element/variable in a list \n",
    "print x # multiplies each element in the list x by 2\n",
    "print [2*element for element in x]\n",
    "\n",
    "# A for loop is a type of For Statement \n",
    "# but here every element is treated individually \n",
    "for e in x:\n",
    "    print e*2 # multiplies each element in the list x by 2"
   ]
  },
  {
   "cell_type": "markdown",
   "metadata": {},
   "source": [
    "The reason that we might want to treat elements individually is so that we can apply case by case options. "
   ]
  },
  {
   "cell_type": "code",
   "execution_count": 6,
   "metadata": {},
   "outputs": [
    {
     "name": "stdout",
     "output_type": "stream",
     "text": [
      "8 is a big number\n",
      "2 is a small number\n",
      "5 is medium size\n",
      "7 is a big number\n",
      "Armida\n",
      "Beata\n",
      "Pablo\n"
     ]
    }
   ],
   "source": [
    "# EXAMPLE 6: If Statement\n",
    "zw = [8,2,5,7]\n",
    "for e in zw:\n",
    "    if e > 5: # selects numbers greater than 5\n",
    "        print \"{} is a big number\".format(e)\n",
    "    elif e > 3 and e < 8:\n",
    "        print \"{} is medium size\".format(e)\n",
    "    else: # selects numbers not greater than 5\n",
    "        print \"{} is a small number\".format(e)\n",
    "\n",
    "# The following is known as an IF-OR statement\n",
    "labnames = [\"Armida\", \"Beata\", \"Pablo\",\"Giles\",\"Jo\",\"Azreen\",\"Chloe\",\"Helena\"]\n",
    "for e in labnames[0:3]:\n",
    "    if \"A\" in e or \"a\" in e: #selects names that have an a or an A in them\n",
    "        print e"
   ]
  },
  {
   "cell_type": "markdown",
   "metadata": {},
   "source": [
    "Strings are also lists! \n",
    "\n",
    "Can we change the **IF-OR** statement to an **IF-AND** statement? "
   ]
  },
  {
   "cell_type": "code",
   "execution_count": 7,
   "metadata": {},
   "outputs": [
    {
     "name": "stdout",
     "output_type": "stream",
     "text": [
      "Rolling the dices...\n",
      "The values are....\n",
      "2\n",
      "4\n",
      "Roll the dices again?y\n",
      "Rolling the dices...\n",
      "The values are....\n",
      "1\n",
      "2\n",
      "Roll the dices again?y\n",
      "Rolling the dices...\n",
      "The values are....\n",
      "1\n",
      "6\n",
      "Roll the dices again?n\n"
     ]
    }
   ],
   "source": [
    "# EXAMPLE 7: While Statements \n",
    "\n",
    "# Importing a library for generating random numbers \n",
    "import random\n",
    "\n",
    "# If the variable roll_again = \"yes\", then the dice will roll... \n",
    "roll_again = \"yes\" # starting variable \n",
    "\n",
    "while roll_again == \"yes\" or roll_again == \"y\":\n",
    "    print(\"Rolling the dices...\")\n",
    "    print(\"The values are....\")\n",
    "    print(random.randint(1, 6)) # Dice 1: selects a random no. between 1-6\n",
    "    print(random.randint(1, 6)) # Dice 2: selects a random no. between 1-6\n",
    "    roll_again = raw_input(\"Roll the dices again?\") # Request user input "
   ]
  },
  {
   "cell_type": "code",
   "execution_count": 8,
   "metadata": {},
   "outputs": [
    {
     "name": "stdout",
     "output_type": "stream",
     "text": [
      "true\n"
     ]
    }
   ],
   "source": [
    "x = True\n",
    "\n",
    "if x==True:\n",
    "    print(\"true\")"
   ]
  },
  {
   "cell_type": "markdown",
   "metadata": {},
   "source": [
    "You just generated your on sets of dice! How would you change the code to make a loaded (crooked) dice? "
   ]
  }
 ],
 "metadata": {
  "kernelspec": {
   "display_name": "Python 3",
   "language": "python",
   "name": "python3"
  },
  "language_info": {
   "codemirror_mode": {
    "name": "ipython",
    "version": 2
   },
   "file_extension": ".py",
   "mimetype": "text/x-python",
   "name": "python",
   "nbconvert_exporter": "python",
   "pygments_lexer": "ipython2",
   "version": "2.7.17"
  }
 },
 "nbformat": 4,
 "nbformat_minor": 2
}
